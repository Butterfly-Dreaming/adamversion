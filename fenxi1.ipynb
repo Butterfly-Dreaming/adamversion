{
 "cells": [
  {
   "cell_type": "code",
   "execution_count": 1,
   "metadata": {},
   "outputs": [],
   "source": [
    "import numpy as np\n",
    "import cv2 as cv"
   ]
  },
  {
   "cell_type": "markdown",
   "metadata": {},
   "source": [
    "(0, -0, -12.369316)\n",
    "(-0.941517, 1.292497, 0)\n",
    "(-53.944969, 74.054604, 0)\n",
    "### camke  , C++ ,openmp."
   ]
  },
  {
   "cell_type": "code",
   "execution_count": 2,
   "metadata": {},
   "outputs": [
    {
     "data": {
      "text/plain": [
       "(array([  0.      ,   0.      , -12.369316]),\n",
       " array([-0.941517,  1.292497,  0.      ]))"
      ]
     },
     "execution_count": 2,
     "metadata": {},
     "output_type": "execute_result"
    }
   ],
   "source": [
    "P = np.array((0, -0, -12.369316))\n",
    "R = np.array((-0.941517, 1.292497, 0))\n",
    "P,R"
   ]
  },
  {
   "cell_type": "code",
   "execution_count": 61,
   "metadata": {},
   "outputs": [],
   "source": [
    "\n",
    "R_X=np.array( [  [1,0,0],\n",
    "                [0,np.cos(R[0]),-np.sin(R[0])],\n",
    "                [0,np.sin(R[0]),np.cos(R[0])]]) \n",
    "R_Y=np.array(   [[np.cos(R[1]),0,np.sin(R[1])],\n",
    "                [0,1,0],\n",
    "                [-np.sin(R[1]),0,np.cos(R[1])]] )\n",
    "R_Z=np.array(  [ [np.cos(R[2]),np.sin(R[2]),0],\n",
    "                [np.sin(R[2]),np.cos(R[2]),0],\n",
    "                [0,0,1] ])\n",
    "R_A=R_Z@R_Y@R_X\n"
   ]
  },
  {
   "cell_type": "code",
   "execution_count": 62,
   "metadata": {},
   "outputs": [
    {
     "name": "stdout",
     "output_type": "stream",
     "text": [
      "[[ 1.          0.          0.        ]\n",
      " [ 0.          0.58856228  0.80845188]\n",
      " [ 0.         -0.80845188  0.58856228]]\n",
      "[[ 0.27472081  0.          0.96152404]\n",
      " [ 0.          1.          0.        ]\n",
      " [-0.96152404  0.          0.27472081]]\n",
      "[[1. 0. 0.]\n",
      " [0. 1. 0.]\n",
      " [0. 0. 1.]]\n",
      "[[ 0.27472081 -0.77734592  0.56591678]\n",
      " [ 0.          0.58856228  0.80845188]\n",
      " [-0.96152404 -0.22209855  0.16169031]]\n"
     ]
    }
   ],
   "source": [
    "print(R_X)\n",
    "print(R_Y)\n",
    "print(R_Z)\n",
    "print(R_A)"
   ]
  },
  {
   "cell_type": "code",
   "execution_count": 63,
   "metadata": {},
   "outputs": [
    {
     "data": {
      "text/plain": [
       "array([-7.0000035 , -9.99999677, -1.99999849])"
      ]
     },
     "execution_count": 63,
     "metadata": {},
     "output_type": "execute_result"
    }
   ],
   "source": [
    "R_A@P"
   ]
  }
 ],
 "metadata": {
  "kernelspec": {
   "display_name": "Python 3.9.12 ('base')",
   "language": "python",
   "name": "python3"
  },
  "language_info": {
   "codemirror_mode": {
    "name": "ipython",
    "version": 3
   },
   "file_extension": ".py",
   "mimetype": "text/x-python",
   "name": "python",
   "nbconvert_exporter": "python",
   "pygments_lexer": "ipython3",
   "version": "3.9.12"
  },
  "orig_nbformat": 4,
  "vscode": {
   "interpreter": {
    "hash": "e0d2ccf91f39ab0a567c40d11bdd80a60e5949978f0de16ed6ba79243db2c4e7"
   }
  }
 },
 "nbformat": 4,
 "nbformat_minor": 2
}
