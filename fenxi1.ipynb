{
 "cells": [
  {
   "cell_type": "code",
   "execution_count": 11,
   "metadata": {},
   "outputs": [],
   "source": [
    "import numpy as np\n",
    "import cv2 as cv"
   ]
  },
  {
   "cell_type": "markdown",
   "metadata": {},
   "source": [
    "(0.707107, 1.224745, -6.928204)\n",
    "(-0.61548, 0.785398, 0)\n",
    "(-35.264389, 45, 0)\n",
    "\n",
    "### camke  , C++ ,openmp."
   ]
  },
  {
   "cell_type": "code",
   "execution_count": 12,
   "metadata": {},
   "outputs": [
    {
     "data": {
      "text/plain": [
       "(array([ 0.707107,  1.224745, -6.928204]),\n",
       " array([-0.61548 ,  0.785398,  0.      ]))"
      ]
     },
     "execution_count": 12,
     "metadata": {},
     "output_type": "execute_result"
    }
   ],
   "source": [
    "P = np.array((0.707107, 1.224745, -6.928204))\n",
    "R = np.array((-0.61548, 0.785398, 0))\n",
    "P,R"
   ]
  },
  {
   "cell_type": "code",
   "execution_count": 13,
   "metadata": {},
   "outputs": [],
   "source": [
    "\n",
    "R_X=np.array( [  [1,0,0],\n",
    "                [0,np.cos(R[0]),-np.sin(R[0])],\n",
    "                [0,np.sin(R[0]),np.cos(R[0])]]) \n",
    "R_Y=np.array(   [[np.cos(R[1]),0,np.sin(R[1])],\n",
    "                [0,1,0],\n",
    "                [-np.sin(R[1]),0,np.cos(R[1])]] )\n",
    "R_Z=np.array(  [ [np.cos(R[2]),np.sin(R[2]),0],\n",
    "                [np.sin(R[2]),np.cos(R[2]),0],\n",
    "                [0,0,1] ])\n",
    "R_A=R_Z@R_Y@R_X\n"
   ]
  },
  {
   "cell_type": "code",
   "execution_count": 14,
   "metadata": {},
   "outputs": [
    {
     "name": "stdout",
     "output_type": "stream",
     "text": [
      "[[ 1.          0.          0.        ]\n",
      " [ 0.          0.81649641  0.57735051]\n",
      " [ 0.         -0.57735051  0.81649641]]\n",
      "[[ 0.7071069   0.          0.70710667]\n",
      " [ 0.          1.          0.        ]\n",
      " [-0.70710667  0.          0.7071069 ]]\n",
      "[[1. 0. 0.]\n",
      " [0. 1. 0.]\n",
      " [0. 0. 1.]]\n",
      "[[ 0.7071069  -0.40824839  0.57735006]\n",
      " [ 0.          0.81649641  0.57735051]\n",
      " [-0.70710667 -0.40824853  0.57735024]]\n"
     ]
    }
   ],
   "source": [
    "print(R_X)\n",
    "print(R_Y)\n",
    "print(R_Z)\n",
    "print(R_A)"
   ]
  },
  {
   "cell_type": "code",
   "execution_count": 15,
   "metadata": {},
   "outputs": [
    {
     "data": {
      "text/plain": [
       "array([-3.99999891, -3.00000219, -5.00000069])"
      ]
     },
     "execution_count": 15,
     "metadata": {},
     "output_type": "execute_result"
    }
   ],
   "source": [
    "R_A@P"
   ]
  }
 ],
 "metadata": {
  "kernelspec": {
   "display_name": "Python 3.9.12 ('base')",
   "language": "python",
   "name": "python3"
  },
  "language_info": {
   "codemirror_mode": {
    "name": "ipython",
    "version": 3
   },
   "file_extension": ".py",
   "mimetype": "text/x-python",
   "name": "python",
   "nbconvert_exporter": "python",
   "pygments_lexer": "ipython3",
   "version": "3.9.12"
  },
  "orig_nbformat": 4,
  "vscode": {
   "interpreter": {
    "hash": "e0d2ccf91f39ab0a567c40d11bdd80a60e5949978f0de16ed6ba79243db2c4e7"
   }
  }
 },
 "nbformat": 4,
 "nbformat_minor": 2
}
